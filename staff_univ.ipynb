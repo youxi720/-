{
 "cells": [
  {
   "cell_type": "code",
   "execution_count": null,
   "id": "6a59d4fd-e85e-41a4-9d10-4419bd36ba4d",
   "metadata": {},
   "outputs": [],
   "source": [
    "import pandas as pd\n",
    "import matplotlib.pyplot as plt\n",
    "\n",
    "# Excelファイルの読み込み\n",
    "df = pd.read_excel('')\n",
    "\n",
    "#クラス名を設定し、フィルタリングする\n",
    "classname = \"\"\n",
    "df_filter = df[df['クラス'] == f'{classname}組']\n",
    "\n",
    "# '総合満足度'のデータを集計（各満足度の回数を数える）\n",
    "satisfaction_counts = df_filter[''].value_counts()\n",
    "\n",
    "# 円グラフの描画\n",
    "plt.figure(figsize=(4, 4))\n",
    "plt.pie(satisfaction_counts, labels=satisfaction_counts.index, autopct='%1.1f%%', startangle=90)\n",
    "plt.title(f'{classname}_all_satis')\n",
    "plt.show()\n",
    "\n",
    "# '資料満足度'のデータを集計\n",
    "resume_satis_counts = df_filter[\"資料満足度\"].value_counts()\n",
    "\n",
    "# 円グラフの描画（資料満足度）\n",
    "plt.figure(figsize=(4, 4))\n",
    "plt.pie(resume_satis_counts, labels=resume_satis_counts.index, autopct='%1.1f%%', startangle=90)\n",
    "plt.title(f'{classname}_document_satis')\n",
    "plt.show()\n",
    "\n",
    "# '相談時間の満足度'のデータを集計\n",
    "time_satis_counts = df_filter[\"相談時間の満足度\"].value_counts()\n",
    "\n",
    "# 円グラフの描画（相談時間の満足度）\n",
    "plt.figure(figsize=(4, 4))\n",
    "plt.pie(time_satis_counts, labels=time_satis_counts.index, autopct='%1.1f%%', startangle=90)\n",
    "plt.title(f'{classname}_time_satis')\n",
    "plt.show()"
   ]
  }
 ],
 "metadata": {
  "kernelspec": {
   "display_name": "Python 3 (ipykernel)",
   "language": "python",
   "name": "python3"
  },
  "language_info": {
   "codemirror_mode": {
    "name": "ipython",
    "version": 3
   },
   "file_extension": ".py",
   "mimetype": "text/x-python",
   "name": "python",
   "nbconvert_exporter": "python",
   "pygments_lexer": "ipython3",
   "version": "3.11.7"
  }
 },
 "nbformat": 4,
 "nbformat_minor": 5
}
